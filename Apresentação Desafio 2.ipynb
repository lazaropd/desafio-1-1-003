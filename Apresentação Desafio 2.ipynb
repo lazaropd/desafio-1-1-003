{
 "cells": [
  {
   "cell_type": "markdown",
   "metadata": {
    "slideshow": {
     "slide_type": "slide"
    }
   },
   "source": [
    "# Exercícios GitHub"
   ]
  },
  {
   "cell_type": "markdown",
   "metadata": {
    "slideshow": {
     "slide_type": "slide"
    }
   },
   "source": [
    "## Enunciado"
   ]
  },
  {
   "cell_type": "markdown",
   "metadata": {
    "slideshow": {
     "slide_type": "subslide"
    }
   },
   "source": [
    "### Desafio 1\n",
    "Crie uma rotina que gera entradas aleatoriamente, e mostre o resultado da execução de cada desafio em um arquivo texto."
   ]
  },
  {
   "cell_type": "markdown",
   "metadata": {
    "slideshow": {
     "slide_type": "subslide"
    }
   },
   "source": [
    "### Desafio 2\n",
    "Para duas cadeias A e B, definimos a semelhança das cadeias como sendo o comprimento do prefixo mais longo comum a ambas as cadeias. Por exemplo, a similaridade das cadeias \"abc\" e \"abd\" é 2, enquanto a similaridade das cadeias \"aaa\" e \"aaab\" é 3.\n",
    "\n",
    "Calcule a soma das semelhanças de uma sequência S com cada um dos seus sufixos.\n",
    "\n",
    "Ex: aabagh sufixo 1: abagh sufixo 2: bagh sufixo 3: agh sufixo 4: gh sufixo 5: h\n",
    "\n",
    "Formato de entrada\n",
    "\n",
    "A primeira linha contém o número de casos de teste t. Cada uma das próximas t linhas contém uma string para processar.\n",
    "\n",
    "A saída é gerada da seguinte forma: Linhas t de saída, cada uma contendo a resposta para o caso de teste correspondente."
   ]
  },
  {
   "cell_type": "markdown",
   "metadata": {
    "slideshow": {
     "slide_type": "subslide"
    }
   },
   "source": [
    "## Solução"
   ]
  },
  {
   "cell_type": "markdown",
   "metadata": {
    "slideshow": {
     "slide_type": "slide"
    }
   },
   "source": [
    "### Gerando entradas aleatórias"
   ]
  },
  {
   "cell_type": "code",
   "execution_count": 36,
   "metadata": {
    "slideshow": {
     "slide_type": "fragment"
    }
   },
   "outputs": [],
   "source": [
    "import numpy as np \n",
    "import random as rd\n",
    "import string\n",
    "\n",
    "# Gerador de strings aleatorias contendo os caracteres 'abc' \n",
    "# de tamanho fixo\n",
    "def randomString(s_length):\n",
    "    string_seq = \"abc\"\n",
    "\n",
    "    st = ''.join(rd.choice(string_seq) for i in range(s_length))\n",
    "    return st\n"
   ]
  },
  {
   "cell_type": "code",
   "execution_count": 37,
   "metadata": {
    "slideshow": {
     "slide_type": "fragment"
    }
   },
   "outputs": [
    {
     "name": "stdout",
     "output_type": "stream",
     "text": [
      "ccbacabab\n"
     ]
    }
   ],
   "source": [
    "print(randomString(9))"
   ]
  },
  {
   "cell_type": "markdown",
   "metadata": {
    "slideshow": {
     "slide_type": "slide"
    }
   },
   "source": [
    "### Gerando arquivo de texto"
   ]
  },
  {
   "cell_type": "code",
   "execution_count": 38,
   "metadata": {
    "slideshow": {
     "slide_type": "fragment"
    }
   },
   "outputs": [],
   "source": [
    "def write_file(filename, my_list):\n",
    "\n",
    "    with open(str(filename), 'w') as f:\n",
    "        for st in my_list:\n",
    "            f.write(\"%s\\n\" % st)\n",
    "    return print('done writing')"
   ]
  },
  {
   "cell_type": "code",
   "execution_count": 39,
   "metadata": {
    "slideshow": {
     "slide_type": "fragment"
    }
   },
   "outputs": [
    {
     "name": "stdout",
     "output_type": "stream",
     "text": [
      "done writing\n"
     ]
    }
   ],
   "source": [
    "write_file (\"ẗeste.txt\",[\"Hub\",\"Senai\",\"2019\"])"
   ]
  },
  {
   "cell_type": "markdown",
   "metadata": {
    "slideshow": {
     "slide_type": "slide"
    }
   },
   "source": [
    "### Lendo arquivos de texto"
   ]
  },
  {
   "cell_type": "code",
   "execution_count": 40,
   "metadata": {
    "slideshow": {
     "slide_type": "fragment"
    }
   },
   "outputs": [],
   "source": [
    "# Leitura de arquivo\n",
    "# Retorna o numero de sentencas e um array contendo as sentencas \n",
    "def leitura_arquivo (arquivo_nome):\n",
    "    with open(arquivo_nome) as arq:\n",
    "        numero_sentencas = int(arq.readline())\n",
    "        sentencas = arq.read().splitlines()\n",
    "    return numero_sentencas, sentencas, print(\"Lido com sucesso!\")"
   ]
  },
  {
   "cell_type": "markdown",
   "metadata": {
    "slideshow": {
     "slide_type": "subslide"
    }
   },
   "source": [
    "### Cálculo da semelhança das cadeias"
   ]
  },
  {
   "cell_type": "code",
   "execution_count": 41,
   "metadata": {
    "slideshow": {
     "slide_type": "fragment"
    }
   },
   "outputs": [],
   "source": [
    "# Tamanho do maior prefixo em comum entre duas strings\n",
    "def calculo_prefixo(string1,string2):\n",
    "\n",
    "    s1 = list(string1)\n",
    "    s2 = list(string2)\n",
    "\n",
    "    length1 = len(string1)\n",
    "    length2 = len(string2)\n",
    "\n",
    "    # Tamanho maximo do prefixo em comum \n",
    "    cont = min(length1,length2)\n",
    "\n",
    "    sem = 0\n",
    "    # Contador do maximo de caracteres em comum \n",
    "    for x in range(cont):\n",
    "        if s1[x] == s2 [x]:\n",
    "            sem += 1\n",
    "        else: break\n",
    "\n",
    "    return sem"
   ]
  },
  {
   "cell_type": "code",
   "execution_count": 42,
   "metadata": {
    "scrolled": true,
    "slideshow": {
     "slide_type": "fragment"
    }
   },
   "outputs": [
    {
     "data": {
      "text/plain": [
       "5"
      ]
     },
     "execution_count": 42,
     "metadata": {},
     "output_type": "execute_result"
    }
   ],
   "source": [
    "calculo_prefixo(\"aaaaaa\",\"aaaaab\")"
   ]
  },
  {
   "cell_type": "markdown",
   "metadata": {
    "slideshow": {
     "slide_type": "slide"
    }
   },
   "source": [
    "### Cálculo da semelhança entre uma string e seus respectivos sufixos"
   ]
  },
  {
   "cell_type": "code",
   "execution_count": 43,
   "metadata": {
    "slideshow": {
     "slide_type": "fragment"
    }
   },
   "outputs": [],
   "source": [
    "def calculo_sufixo(string0):\n",
    "    \n",
    "    s1 = list(string0)\n",
    "    s2 = list(string0)\n",
    "\n",
    "    # Armazena valor de semelhanca do sufixo que esta sendo analizado\n",
    "    atual = 0\n",
    "    # Armazena a soma dos valores de semelhanca entre a string e seus sufixos\n",
    "    acumul = 0 \n",
    "    # Array dos valores de semelhanca \n",
    "    hist = []\n",
    "    \n",
    "    it = len(string0)\n",
    "    for x in range(it):\n",
    "        tam = len(s2)\n",
    "        # Final de string\n",
    "        if tam == 0: break\n",
    "        else: \n",
    "            atual = calculo_prefixo(s1,s2)\n",
    "            acumul += atual\n",
    "            hist.append(atual)\n",
    "        # Remove um caractere para gerar o proximo sufixo\n",
    "        s2.pop(0) \n",
    "        \n",
    "    return string0,acumul,hist"
   ]
  },
  {
   "cell_type": "code",
   "execution_count": 44,
   "metadata": {
    "slideshow": {
     "slide_type": "fragment"
    }
   },
   "outputs": [
    {
     "name": "stdout",
     "output_type": "stream",
     "text": [
      "ababaa\n",
      "11\n",
      "[6, 0, 3, 0, 1, 1]\n"
     ]
    }
   ],
   "source": [
    "a,b,c = calculo_sufixo(\"ababaa\")\n",
    "print(a)\n",
    "print(b)\n",
    "print(c)"
   ]
  },
  {
   "cell_type": "markdown",
   "metadata": {
    "slideshow": {
     "slide_type": "slide"
    }
   },
   "source": [
    "### Main"
   ]
  },
  {
   "cell_type": "code",
   "execution_count": 48,
   "metadata": {
    "scrolled": true,
    "slideshow": {
     "slide_type": "fragment"
    }
   },
   "outputs": [],
   "source": [
    "from IPython.display import display, Markdown\n",
    "\n",
    "def main():\n",
    "    saida = []\n",
    "    number_of_lines = 10\n",
    "    my_list = [number_of_lines]\n",
    "    file_name = \"list_of_string.txt\"\n",
    "    saida_name = \"output.txt\"\n",
    "    \n",
    "    i=0\n",
    "    while i < number_of_lines:\n",
    "        # sorteia um numero entre 3 e 10 para ser o numero de sentencas \n",
    "        n = rd.randrange(3, 10, 1)\n",
    "        # sorteia uma sentenca de tamanho N\n",
    "        s = randomString(n)\n",
    "        # armazena as sentencas\n",
    "        my_list.append(s)\n",
    "        i += 1\n",
    "    # escreve as sentencas em um arquivo para ser o arquivo de entrada\n",
    "    write_file(file_name , my_list)\n",
    "    \n",
    "    # leitura arquivo de entrada \n",
    "    n,m,p = leitura_arquivo(file_name)\n",
    "    # para cada sentenca\n",
    "    for i in m:\n",
    "        # calculo das somas das semelhancas da sentenca com os seus sufixos\n",
    "        string, n_sem, soma = calculo_sufixo(i)\n",
    "        result = '+'.join(map(str,soma))\n",
    "        r = \"A palavra <font style = 'color: blue'><b>%s</b></font> de tamanho <font style = 'color: red'><b>%d</b></font> tem semelhança <font style = 'color: green'><b>%d</b></font> = <font style = 'color:magenta'><b>%s</b></font>\" % (string,len(string),n_sem, result)\n",
    "        r0 = \"A palavra %s de tamanho %d tem semelhança %d = %s \\n\" % (string,len(string),n_sem, result)\n",
    "        display(Markdown(r))\n",
    "        saida.append(r0)\n",
    "    # escreve os resultados para um arquivo externo\n",
    "    write_file(saida_name, saida)"
   ]
  },
  {
   "cell_type": "code",
   "execution_count": 50,
   "metadata": {
    "slideshow": {
     "slide_type": "fragment"
    }
   },
   "outputs": [
    {
     "name": "stdout",
     "output_type": "stream",
     "text": [
      "done writing\n",
      "Lido com sucesso!\n"
     ]
    },
    {
     "data": {
      "text/markdown": [
       "A palavra <font style = 'color: blue'><b>bacac</b></font> de tamanho <font style = 'color: red'><b>5</b></font> tem semelhança <font style = 'color: green'><b>5</b></font> = <font style = 'color:magenta'><b>5+0+0+0+0</b></font>"
      ],
      "text/plain": [
       "<IPython.core.display.Markdown object>"
      ]
     },
     "metadata": {},
     "output_type": "display_data"
    },
    {
     "data": {
      "text/markdown": [
       "A palavra <font style = 'color: blue'><b>acc</b></font> de tamanho <font style = 'color: red'><b>3</b></font> tem semelhança <font style = 'color: green'><b>3</b></font> = <font style = 'color:magenta'><b>3+0+0</b></font>"
      ],
      "text/plain": [
       "<IPython.core.display.Markdown object>"
      ]
     },
     "metadata": {},
     "output_type": "display_data"
    },
    {
     "data": {
      "text/markdown": [
       "A palavra <font style = 'color: blue'><b>cbbbb</b></font> de tamanho <font style = 'color: red'><b>5</b></font> tem semelhança <font style = 'color: green'><b>5</b></font> = <font style = 'color:magenta'><b>5+0+0+0+0</b></font>"
      ],
      "text/plain": [
       "<IPython.core.display.Markdown object>"
      ]
     },
     "metadata": {},
     "output_type": "display_data"
    },
    {
     "data": {
      "text/markdown": [
       "A palavra <font style = 'color: blue'><b>caa</b></font> de tamanho <font style = 'color: red'><b>3</b></font> tem semelhança <font style = 'color: green'><b>3</b></font> = <font style = 'color:magenta'><b>3+0+0</b></font>"
      ],
      "text/plain": [
       "<IPython.core.display.Markdown object>"
      ]
     },
     "metadata": {},
     "output_type": "display_data"
    },
    {
     "data": {
      "text/markdown": [
       "A palavra <font style = 'color: blue'><b>babcaabba</b></font> de tamanho <font style = 'color: red'><b>9</b></font> tem semelhança <font style = 'color: green'><b>13</b></font> = <font style = 'color:magenta'><b>9+0+1+0+0+0+1+2+0</b></font>"
      ],
      "text/plain": [
       "<IPython.core.display.Markdown object>"
      ]
     },
     "metadata": {},
     "output_type": "display_data"
    },
    {
     "data": {
      "text/markdown": [
       "A palavra <font style = 'color: blue'><b>baacc</b></font> de tamanho <font style = 'color: red'><b>5</b></font> tem semelhança <font style = 'color: green'><b>5</b></font> = <font style = 'color:magenta'><b>5+0+0+0+0</b></font>"
      ],
      "text/plain": [
       "<IPython.core.display.Markdown object>"
      ]
     },
     "metadata": {},
     "output_type": "display_data"
    },
    {
     "data": {
      "text/markdown": [
       "A palavra <font style = 'color: blue'><b>ccccaabca</b></font> de tamanho <font style = 'color: red'><b>9</b></font> tem semelhança <font style = 'color: green'><b>16</b></font> = <font style = 'color:magenta'><b>9+3+2+1+0+0+0+1+0</b></font>"
      ],
      "text/plain": [
       "<IPython.core.display.Markdown object>"
      ]
     },
     "metadata": {},
     "output_type": "display_data"
    },
    {
     "data": {
      "text/markdown": [
       "A palavra <font style = 'color: blue'><b>cabcbc</b></font> de tamanho <font style = 'color: red'><b>6</b></font> tem semelhança <font style = 'color: green'><b>8</b></font> = <font style = 'color:magenta'><b>6+0+0+1+0+1</b></font>"
      ],
      "text/plain": [
       "<IPython.core.display.Markdown object>"
      ]
     },
     "metadata": {},
     "output_type": "display_data"
    },
    {
     "data": {
      "text/markdown": [
       "A palavra <font style = 'color: blue'><b>abaacbaba</b></font> de tamanho <font style = 'color: red'><b>9</b></font> tem semelhança <font style = 'color: green'><b>15</b></font> = <font style = 'color:magenta'><b>9+0+1+1+0+0+3+0+1</b></font>"
      ],
      "text/plain": [
       "<IPython.core.display.Markdown object>"
      ]
     },
     "metadata": {},
     "output_type": "display_data"
    },
    {
     "data": {
      "text/markdown": [
       "A palavra <font style = 'color: blue'><b>cbbbabaac</b></font> de tamanho <font style = 'color: red'><b>9</b></font> tem semelhança <font style = 'color: green'><b>10</b></font> = <font style = 'color:magenta'><b>9+0+0+0+0+0+0+0+1</b></font>"
      ],
      "text/plain": [
       "<IPython.core.display.Markdown object>"
      ]
     },
     "metadata": {},
     "output_type": "display_data"
    },
    {
     "name": "stdout",
     "output_type": "stream",
     "text": [
      "done writing\n"
     ]
    }
   ],
   "source": [
    "if __name__ ==\"__main__\":\n",
    "     main()\n",
    "   "
   ]
  },
  {
   "cell_type": "code",
   "execution_count": null,
   "metadata": {},
   "outputs": [],
   "source": []
  }
 ],
 "metadata": {
  "celltoolbar": "Slideshow",
  "kernelspec": {
   "display_name": "Python [conda env:test] *",
   "language": "python",
   "name": "conda-env-test-py"
  },
  "language_info": {
   "codemirror_mode": {
    "name": "ipython",
    "version": 3
   },
   "file_extension": ".py",
   "mimetype": "text/x-python",
   "name": "python",
   "nbconvert_exporter": "python",
   "pygments_lexer": "ipython3",
   "version": "3.7.4"
  }
 },
 "nbformat": 4,
 "nbformat_minor": 2
}
